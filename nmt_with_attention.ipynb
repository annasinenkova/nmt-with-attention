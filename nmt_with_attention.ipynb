{
  "nbformat": 4,
  "nbformat_minor": 0,
  "metadata": {
    "colab": {
      "provenance": []
    },
    "kernelspec": {
      "name": "python3",
      "display_name": "Python 3"
    },
    "language_info": {
      "name": "python"
    }
  },
  "cells": [
    {
      "cell_type": "markdown",
      "source": [
        "# Библиотеки"
      ],
      "metadata": {
        "id": "MrMQ6KB6aqpM"
      }
    },
    {
      "cell_type": "code",
      "source": [
        "import numpy as np\n",
        "\n",
        "import unicodedata\n",
        "import re"
      ],
      "metadata": {
        "id": "5j6T2POJatP1"
      },
      "execution_count": 1,
      "outputs": []
    },
    {
      "cell_type": "markdown",
      "source": [
        "# Данные"
      ],
      "metadata": {
        "id": "nFgdRjivP_ea"
      }
    },
    {
      "cell_type": "markdown",
      "source": [
        "Anki (https://www.manythings.org/anki/) - англоориентированная коллекция параллельных текстов, взятых из проекта Tatoeba. Включает 86 пар языков."
      ],
      "metadata": {
        "id": "Imy_laPvP5fE"
      }
    },
    {
      "cell_type": "markdown",
      "source": [
        "## Загрузка"
      ],
      "metadata": {
        "id": "lnPLyS32jGvj"
      }
    },
    {
      "cell_type": "markdown",
      "source": [
        "Ссылка на архив - https://www.manythings.org/anki/rus-eng.zip"
      ],
      "metadata": {
        "id": "q_Y3k66sjPkv"
      }
    },
    {
      "cell_type": "code",
      "source": [
        "from google.colab import drive\n",
        "drive.mount('/content/drive')"
      ],
      "metadata": {
        "colab": {
          "base_uri": "https://localhost:8080/"
        },
        "id": "gDr486R4emWX",
        "outputId": "8ed741d3-7b80-4d1a-c47c-f0c263574b4a"
      },
      "execution_count": 2,
      "outputs": [
        {
          "output_type": "stream",
          "name": "stdout",
          "text": [
            "Drive already mounted at /content/drive; to attempt to forcibly remount, call drive.mount(\"/content/drive\", force_remount=True).\n"
          ]
        }
      ]
    },
    {
      "cell_type": "code",
      "source": [
        "path = '/content/drive/My Drive/rus.txt'\n",
        "\n",
        "lines = open(path, encoding='UTF-8').read().strip().split('\\n')"
      ],
      "metadata": {
        "id": "zfvDHiFTe8ya"
      },
      "execution_count": 3,
      "outputs": []
    },
    {
      "cell_type": "markdown",
      "source": [
        "## Анализ датасета"
      ],
      "metadata": {
        "id": "Pxd9ZadJTTob"
      }
    },
    {
      "cell_type": "code",
      "source": [
        "print(len(lines))"
      ],
      "metadata": {
        "colab": {
          "base_uri": "https://localhost:8080/"
        },
        "id": "szEI3uGofTvL",
        "outputId": "4dc14a2e-5b7c-4ca9-b3b5-b9fb81cb439e"
      },
      "execution_count": 4,
      "outputs": [
        {
          "output_type": "stream",
          "name": "stdout",
          "text": [
            "496059\n"
          ]
        }
      ]
    },
    {
      "cell_type": "markdown",
      "source": [
        "Всего 496059 пар предложений, упорядоченных в порядке возрастания длины."
      ],
      "metadata": {
        "id": "QVcag3q1fbXp"
      }
    },
    {
      "cell_type": "code",
      "source": [
        "print(lines[5])\n",
        "print(lines[50])\n",
        "print(lines[500])\n",
        "print(lines[5000])\n",
        "print(lines[50000])"
      ],
      "metadata": {
        "colab": {
          "base_uri": "https://localhost:8080/"
        },
        "id": "gYYPDMCwfsLW",
        "outputId": "176fc73f-ecf4-41f6-e7a2-14b6d06929ec"
      },
      "execution_count": 5,
      "outputs": [
        {
          "output_type": "stream",
          "name": "stdout",
          "text": [
            "Hi.\tХай.\tCC-BY 2.0 (France) Attribution: tatoeba.org #538123 (CM) & #467233 (timsa)\n",
            "Wait.\tПодождите.\tCC-BY 2.0 (France) Attribution: tatoeba.org #3048304 (camilozeta) & #5707977 (odexed)\n",
            "Wake up!\tПроснитесь.\tCC-BY 2.0 (France) Attribution: tatoeba.org #323780 (CK) & #10710636 (marafon)\n",
            "Is Tom rich?\tТом богатый?\tCC-BY 2.0 (France) Attribution: tatoeba.org #7901240 (Kamilla) & #10849612 (marafon)\n",
            "Take off your tie.\tСнимите галстук.\tCC-BY 2.0 (France) Attribution: tatoeba.org #3732849 (CK) & #3972285 (odexed)\n"
          ]
        }
      ]
    },
    {
      "cell_type": "markdown",
      "source": [
        "Данные записаны в виде: English + TAB + The Other Language + TAB + Attribution."
      ],
      "metadata": {
        "id": "s5siZhjbpbpc"
      }
    },
    {
      "cell_type": "code",
      "source": [
        "print(len(lines[0].split('\\t')[0]), len(lines[-1].split('\\t')[0]))"
      ],
      "metadata": {
        "colab": {
          "base_uri": "https://localhost:8080/"
        },
        "id": "KMY5AJHCfztW",
        "outputId": "390d8538-566e-4b49-88f8-83318456f58c"
      },
      "execution_count": 6,
      "outputs": [
        {
          "output_type": "stream",
          "name": "stdout",
          "text": [
            "3 537\n"
          ]
        }
      ]
    },
    {
      "cell_type": "markdown",
      "source": [
        "Длина самого короткого предложения (eng) - 3, самого длинного - 537."
      ],
      "metadata": {
        "id": "U1e95dCKiO6-"
      }
    },
    {
      "cell_type": "markdown",
      "source": [
        "## Обработка предложений"
      ],
      "metadata": {
        "id": "A4etdn50jsRz"
      }
    },
    {
      "cell_type": "markdown",
      "source": [
        "\n",
        "\n",
        "*   Перевести все символы в кодировку ASCII\n",
        "*   Сделать все символы строчными\n",
        "*   Убрать неважную пунктуацию\n",
        "*   Отделить пунктуацию от текста\n",
        "*   Добавить символы начала и конца строки\n",
        "\n"
      ],
      "metadata": {
        "id": "rExOi8FLmWkd"
      }
    },
    {
      "cell_type": "code",
      "source": [
        "def unicode2ascii(s):\n",
        "    return ''.join(\n",
        "        c for c in unicodedata.normalize('NFD', s)\n",
        "        if unicodedata.category(c) != 'Mn'\n",
        "    )\n",
        "\n",
        "def normalize_sentence(s):\n",
        "    s = unicode2ascii(s.lower().strip())\n",
        "    s = re.sub(r\"([.!?,])\", r\" \\1 \", s)\n",
        "    s = re.sub(r'[\" \"]+', \" \", s)\n",
        "    s = re.sub(r\"[^a-zA-Zа-яА-Я.!?,]+\", \" \", s)\n",
        "    s = s.rstrip().strip()\n",
        "    s = '[START] ' + s + ' [END]'\n",
        "    return s"
      ],
      "metadata": {
        "id": "ouMsaLvgjvuY"
      },
      "execution_count": 7,
      "outputs": []
    },
    {
      "cell_type": "code",
      "source": [
        "split_lines = [line.split('\\t') for line in lines]\n",
        "\n",
        "eng_sentences = [eng for eng, _, _ in split_lines]\n",
        "rus_sentences = [rus for _, rus, _ in split_lines]"
      ],
      "metadata": {
        "id": "Eho3T-34j88V"
      },
      "execution_count": 8,
      "outputs": []
    },
    {
      "cell_type": "code",
      "source": [
        "print(eng_sentences[-50])\n",
        "print(rus_sentences[-50])"
      ],
      "metadata": {
        "colab": {
          "base_uri": "https://localhost:8080/"
        },
        "id": "W2_4M6OGlK6g",
        "outputId": "5d2e918b-974f-4431-8ba2-863f4ba35ab5"
      },
      "execution_count": 9,
      "outputs": [
        {
          "output_type": "stream",
          "name": "stdout",
          "text": [
            "Oh, sure, I studied English in my school days. But it wasn't until two or three years ago that I really started taking it seriously.\n",
            "О, конечно я учил английский язык в школе. Но только два или три года назад я принялся за него всерьёз.\n"
          ]
        }
      ]
    },
    {
      "cell_type": "code",
      "source": [
        "eng_sentences = [normalize_sentence(sentence) for sentence in eng_sentences]\n",
        "rus_sentences = [normalize_sentence(sentence) for sentence in rus_sentences]"
      ],
      "metadata": {
        "id": "SjYqGmG9nt5L"
      },
      "execution_count": 10,
      "outputs": []
    },
    {
      "cell_type": "code",
      "source": [
        "print(eng_sentences[-50])\n",
        "print(rus_sentences[-50])"
      ],
      "metadata": {
        "colab": {
          "base_uri": "https://localhost:8080/"
        },
        "id": "3YWXlv-KoeWk",
        "outputId": "9ac587e6-5d9d-45b0-9bf8-6f7c04e862da"
      },
      "execution_count": 11,
      "outputs": [
        {
          "output_type": "stream",
          "name": "stdout",
          "text": [
            "[START] oh , sure , i studied english in my school days . but it wasn t until two or three years ago that i really started taking it seriously . [END]\n",
            "[START] о , конечно я учил англиискии язык в школе . но только два или три года назад я принялся за него всерьез . [END]\n"
          ]
        }
      ]
    },
    {
      "cell_type": "markdown",
      "source": [
        "## Векторизация"
      ],
      "metadata": {
        "id": "BMzqHCLA2Ydg"
      }
    },
    {
      "cell_type": "code",
      "source": [
        "eng_sentences = eng_sentences[:15000]\n",
        "rus_sentences = rus_sentences[:15000]"
      ],
      "metadata": {
        "id": "VqcKlmNhdCmF"
      },
      "execution_count": 12,
      "outputs": []
    },
    {
      "cell_type": "code",
      "source": [
        "print(eng_sentences[-5])\n",
        "print(rus_sentences[-5])"
      ],
      "metadata": {
        "colab": {
          "base_uri": "https://localhost:8080/"
        },
        "id": "Bc3jN1QydcsA",
        "outputId": "996a66cb-1156-4f9e-a08e-8c45dfca863f"
      },
      "execution_count": 13,
      "outputs": [
        {
          "output_type": "stream",
          "name": "stdout",
          "text": [
            "[START] were you busy ? [END]\n",
            "[START] вы были заняты ? [END]\n"
          ]
        }
      ]
    },
    {
      "cell_type": "code",
      "source": [
        "class Vocab():\n",
        "    def __init__(self):\n",
        "        self.word2index = {'[PAD]': 0, '[START]': 1, '[END]': 2}\n",
        "        self.index2word = {0: '[PAD]', 1: '[START]', 2: '[END]'}\n",
        "        self.vocab_size = 3\n",
        "\n",
        "    def add_words(self, texts):\n",
        "        for text in texts:\n",
        "            for word in text.split(' '):\n",
        "                if word not in self.word2index:\n",
        "                    self.word2index[word] = self.vocab_size\n",
        "                    self.index2word[self.vocab_size] = word\n",
        "                    self.vocab_size += 1\n",
        "\n",
        "    def seq2vector(self, seq):\n",
        "        vector = [self.word2index[word] for word in seq.split(' ')]\n",
        "        return vector\n",
        "\n",
        "    def vector2tokens(self, vector):\n",
        "        tokens = []\n",
        "        for index in vector:\n",
        "            if index not in [0, 1, 2]:\n",
        "                tokens.append(self.index2word[index])\n",
        "        return tokens"
      ],
      "metadata": {
        "id": "QTRFazT4ncyM"
      },
      "execution_count": 14,
      "outputs": []
    },
    {
      "cell_type": "code",
      "source": [
        "eng_vocab = Vocab()\n",
        "eng_vocab.add_words(eng_sentences)\n",
        "\n",
        "rus_vocab = Vocab()\n",
        "rus_vocab.add_words(rus_sentences)"
      ],
      "metadata": {
        "id": "3JKvum978Jxq"
      },
      "execution_count": 15,
      "outputs": []
    },
    {
      "cell_type": "code",
      "source": [
        "def vectorization(data, vocab):\n",
        "    return np.array([vocab.seq2vector(seq) for seq in data], dtype=object)"
      ],
      "metadata": {
        "id": "JTph8m3mrnfX"
      },
      "execution_count": 16,
      "outputs": []
    },
    {
      "cell_type": "code",
      "source": [
        "eng_vectors = vectorization(eng_sentences, eng_vocab)\n",
        "rus_vectors = vectorization(rus_sentences, rus_vocab)"
      ],
      "metadata": {
        "id": "1d_0dxbzMGWz"
      },
      "execution_count": 17,
      "outputs": []
    },
    {
      "cell_type": "code",
      "source": [
        "print(eng_vectors[-5])\n",
        "print(rus_vectors[-5])"
      ],
      "metadata": {
        "colab": {
          "base_uri": "https://localhost:8080/"
        },
        "outputId": "02750a19-dc14-401e-b24b-7b9686ead010",
        "id": "KwjjxNKmZfeM"
      },
      "execution_count": 18,
      "outputs": [
        {
          "output_type": "stream",
          "name": "stdout",
          "text": [
            "[1, 1209, 148, 188, 9, 2]\n",
            "[1, 415, 1416, 2158, 17, 2]\n"
          ]
        }
      ]
    },
    {
      "cell_type": "code",
      "source": [
        "def padding(data, max_length):\n",
        "    return np.array([[0]*(max_length - len(vec)) + vec for vec in data])"
      ],
      "metadata": {
        "id": "eFvINp0oZzAe"
      },
      "execution_count": 19,
      "outputs": []
    },
    {
      "cell_type": "code",
      "source": [
        "max_length = max(len(eng_vectors[-1]), len(rus_vectors[-1]))\n",
        "\n",
        "eng_vectors = padding(eng_vectors, 12)\n",
        "rus_vectors = padding(rus_vectors, 12)"
      ],
      "metadata": {
        "id": "pErcef9da6MN"
      },
      "execution_count": 20,
      "outputs": []
    },
    {
      "cell_type": "code",
      "source": [
        "print(eng_vectors[-5])\n",
        "print(rus_vectors[-5])"
      ],
      "metadata": {
        "colab": {
          "base_uri": "https://localhost:8080/"
        },
        "id": "uLfMeR3RbOs5",
        "outputId": "572db3e4-77da-4a8c-d246-18edb6791f65"
      },
      "execution_count": 21,
      "outputs": [
        {
          "output_type": "stream",
          "name": "stdout",
          "text": [
            "[   0    0    0    0    0    0    1 1209  148  188    9    2]\n",
            "[   0    0    0    0    0    0    1  415 1416 2158   17    2]\n"
          ]
        }
      ]
    }
  ]
}