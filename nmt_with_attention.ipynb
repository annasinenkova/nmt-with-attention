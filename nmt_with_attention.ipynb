{
  "nbformat": 4,
  "nbformat_minor": 0,
  "metadata": {
    "colab": {
      "provenance": [],
      "collapsed_sections": [
        "Z579-ISl9Zj6",
        "nFgdRjivP_ea",
        "lnPLyS32jGvj",
        "Pxd9ZadJTTob",
        "A4etdn50jsRz",
        "BMzqHCLA2Ydg",
        "iUOicyzfDA3m",
        "zizVhE_1zMOW",
        "t1nFLBPQln_C",
        "pAhVh4MQSFb1",
        "7AsLX63WnYdv",
        "jr1CPUCmrLDF",
        "H_UUx7mfnsVM"
      ],
      "gpuType": "T4"
    },
    "kernelspec": {
      "name": "python3",
      "display_name": "Python 3"
    },
    "language_info": {
      "name": "python"
    },
    "accelerator": "GPU"
  },
  "cells": [
    {
      "metadata": {
        "id": "Z579-ISl9Zj6"
      },
      "cell_type": "markdown",
      "source": [
        "# Библиотеки"
      ]
    },
    {
      "metadata": {
        "id": "qT20LFmb3jSW"
      },
      "cell_type": "code",
      "source": [
        "import numpy as np\n",
        "import unicodedata\n",
        "import re\n",
        "from sklearn.model_selection import train_test_split\n",
        "\n",
        "import torch\n",
        "import torch.nn as nn\n",
        "import torch.optim as optim\n",
        "from torch.utils.data import TensorDataset, DataLoader, RandomSampler\n",
        "\n",
        "import random\n",
        "import time\n",
        "\n",
        "import matplotlib.pyplot as plt\n",
        "import matplotlib.ticker as ticker\n",
        "\n",
        "from nltk.translate.bleu_score import corpus_bleu\n",
        "from gensim.utils import tokenize\n",
        "from gensim.similarities import WmdSimilarity\n",
        "import gensim.downloader"
      ],
      "execution_count": null,
      "outputs": []
    },
    {
      "metadata": {
        "id": "63Ox1YURzVhF",
        "colab": {
          "base_uri": "https://localhost:8080/"
        },
        "outputId": "e3a864f5-811e-46f1-e403-59d0855f7143"
      },
      "cell_type": "code",
      "source": [
        "from google.colab import drive\n",
        "drive.mount('/content/drive')"
      ],
      "execution_count": null,
      "outputs": [
        {
          "output_type": "stream",
          "name": "stdout",
          "text": [
            "Drive already mounted at /content/drive; to attempt to forcibly remount, call drive.mount(\"/content/drive\", force_remount=True).\n"
          ]
        }
      ]
    },
    {
      "cell_type": "code",
      "source": [
        "device = torch.device(\"cuda\" if torch.cuda.is_available() else \"cpu\")\n",
        "device"
      ],
      "metadata": {
        "id": "ehsiSXUdMZyp",
        "colab": {
          "base_uri": "https://localhost:8080/"
        },
        "outputId": "7662e762-aa08-4f74-b512-b7c51f23bb21"
      },
      "execution_count": null,
      "outputs": [
        {
          "output_type": "execute_result",
          "data": {
            "text/plain": [
              "device(type='cuda')"
            ]
          },
          "metadata": {},
          "execution_count": 3
        }
      ]
    },
    {
      "cell_type": "markdown",
      "source": [
        "# Данные"
      ],
      "metadata": {
        "id": "nFgdRjivP_ea"
      }
    },
    {
      "cell_type": "markdown",
      "source": [
        "Anki (https://www.manythings.org/anki/) - англоориентированная коллекция параллельных текстов, взятых из проекта Tatoeba. Включает 86 пар языков."
      ],
      "metadata": {
        "id": "Imy_laPvP5fE"
      }
    },
    {
      "cell_type": "markdown",
      "source": [
        "## Загрузка"
      ],
      "metadata": {
        "id": "lnPLyS32jGvj"
      }
    },
    {
      "cell_type": "markdown",
      "source": [
        "Ссылка на архив - https://www.manythings.org/anki/rus-eng.zip"
      ],
      "metadata": {
        "id": "q_Y3k66sjPkv"
      }
    },
    {
      "cell_type": "code",
      "source": [
        "from google.colab import drive\n",
        "drive.mount('/content/drive')"
      ],
      "metadata": {
        "colab": {
          "base_uri": "https://localhost:8080/"
        },
        "id": "gDr486R4emWX",
        "outputId": "c96badc9-a49d-4b1b-82e4-3c38c4a2ac23"
      },
      "execution_count": null,
      "outputs": [
        {
          "output_type": "stream",
          "name": "stdout",
          "text": [
            "Drive already mounted at /content/drive; to attempt to forcibly remount, call drive.mount(\"/content/drive\", force_remount=True).\n"
          ]
        }
      ]
    },
    {
      "cell_type": "code",
      "source": [
        "path = '/content/drive/My Drive/rus.txt'\n",
        "\n",
        "lines = open(path, encoding='UTF-8').read().strip().split('\\n')"
      ],
      "metadata": {
        "id": "zfvDHiFTe8ya"
      },
      "execution_count": null,
      "outputs": []
    },
    {
      "cell_type": "markdown",
      "source": [
        "## Анализ датасета"
      ],
      "metadata": {
        "id": "Pxd9ZadJTTob"
      }
    },
    {
      "cell_type": "code",
      "source": [
        "print(len(lines))"
      ],
      "metadata": {
        "colab": {
          "base_uri": "https://localhost:8080/"
        },
        "id": "szEI3uGofTvL",
        "outputId": "ff0c9d33-9854-4cd8-b584-af503da84d25"
      },
      "execution_count": null,
      "outputs": [
        {
          "output_type": "stream",
          "name": "stdout",
          "text": [
            "496059\n"
          ]
        }
      ]
    },
    {
      "cell_type": "markdown",
      "source": [
        "Всего 496059 пар предложений, упорядоченных в порядке возрастания длины."
      ],
      "metadata": {
        "id": "QVcag3q1fbXp"
      }
    },
    {
      "cell_type": "code",
      "source": [
        "print(lines[5])\n",
        "print(lines[50])\n",
        "print(lines[500])\n",
        "print(lines[5000])\n",
        "print(lines[50000])"
      ],
      "metadata": {
        "colab": {
          "base_uri": "https://localhost:8080/"
        },
        "id": "gYYPDMCwfsLW",
        "outputId": "64ded873-89ff-4da8-df9a-139fa0a4ae37"
      },
      "execution_count": null,
      "outputs": [
        {
          "output_type": "stream",
          "name": "stdout",
          "text": [
            "Hi.\tХай.\tCC-BY 2.0 (France) Attribution: tatoeba.org #538123 (CM) & #467233 (timsa)\n",
            "Wait.\tПодождите.\tCC-BY 2.0 (France) Attribution: tatoeba.org #3048304 (camilozeta) & #5707977 (odexed)\n",
            "Wake up!\tПроснитесь.\tCC-BY 2.0 (France) Attribution: tatoeba.org #323780 (CK) & #10710636 (marafon)\n",
            "Is Tom rich?\tТом богатый?\tCC-BY 2.0 (France) Attribution: tatoeba.org #7901240 (Kamilla) & #10849612 (marafon)\n",
            "Take off your tie.\tСнимите галстук.\tCC-BY 2.0 (France) Attribution: tatoeba.org #3732849 (CK) & #3972285 (odexed)\n"
          ]
        }
      ]
    },
    {
      "cell_type": "markdown",
      "source": [
        "Данные записаны в виде: English + TAB + The Other Language + TAB + Attribution."
      ],
      "metadata": {
        "id": "s5siZhjbpbpc"
      }
    },
    {
      "cell_type": "code",
      "source": [
        "print(len(lines[0].split('\\t')[0]), len(lines[-1].split('\\t')[0]))"
      ],
      "metadata": {
        "colab": {
          "base_uri": "https://localhost:8080/"
        },
        "id": "KMY5AJHCfztW",
        "outputId": "6b53c005-af76-4bd0-80ca-38ba44d6dcb0"
      },
      "execution_count": null,
      "outputs": [
        {
          "output_type": "stream",
          "name": "stdout",
          "text": [
            "3 537\n"
          ]
        }
      ]
    },
    {
      "cell_type": "markdown",
      "source": [
        "Длина самого короткого предложения (eng) - 3, самого длинного - 537."
      ],
      "metadata": {
        "id": "U1e95dCKiO6-"
      }
    },
    {
      "cell_type": "markdown",
      "source": [
        "## Обработка предложений"
      ],
      "metadata": {
        "id": "A4etdn50jsRz"
      }
    },
    {
      "cell_type": "markdown",
      "source": [
        "\n",
        "\n",
        "*   Перевести все символы в кодировку ASCII\n",
        "*   Сделать все символы строчными\n",
        "*   Убрать неважную пунктуацию\n",
        "*   Отделить пунктуацию от текста\n",
        "*   Добавить символы начала и конца строки\n",
        "\n"
      ],
      "metadata": {
        "id": "rExOi8FLmWkd"
      }
    },
    {
      "cell_type": "code",
      "source": [
        "def unicode2ascii(s):\n",
        "    return ''.join(\n",
        "        c for c in unicodedata.normalize('NFD', s)\n",
        "        if unicodedata.category(c) != 'Mn'\n",
        "    )\n",
        "\n",
        "def normalize_sentence(s):\n",
        "    s = unicode2ascii(s.lower().strip())\n",
        "    s = re.sub(r\"([.!?,])\", r\" \\1 \", s)\n",
        "    s = re.sub(r'[\" \"]+', \" \", s)\n",
        "    s = re.sub(r\"[^a-zA-Zа-яА-Я.!?,]+\", \" \", s)\n",
        "    s = s.rstrip().strip()\n",
        "    s = '[START] ' + s + ' [END]'\n",
        "    return s"
      ],
      "metadata": {
        "id": "ouMsaLvgjvuY"
      },
      "execution_count": null,
      "outputs": []
    },
    {
      "cell_type": "code",
      "source": [
        "split_lines = [line.split('\\t') for line in lines]\n",
        "\n",
        "eng_sentences = [eng for eng, _, _ in split_lines]\n",
        "rus_sentences = [rus for _, rus, _ in split_lines]"
      ],
      "metadata": {
        "id": "Eho3T-34j88V"
      },
      "execution_count": null,
      "outputs": []
    },
    {
      "cell_type": "code",
      "source": [
        "eng_sentences = eng_sentences[:250000]\n",
        "rus_sentences = rus_sentences[:250000]"
      ],
      "metadata": {
        "id": "8kd1zr1wqlQ_"
      },
      "execution_count": null,
      "outputs": []
    },
    {
      "cell_type": "code",
      "source": [
        "print(eng_sentences[-50])\n",
        "print(rus_sentences[-50])"
      ],
      "metadata": {
        "colab": {
          "base_uri": "https://localhost:8080/"
        },
        "id": "W2_4M6OGlK6g",
        "outputId": "8588d0aa-869e-4a27-b644-645b6f1fe91c"
      },
      "execution_count": null,
      "outputs": [
        {
          "output_type": "stream",
          "name": "stdout",
          "text": [
            "How dare you ask me for help!\n",
            "Да как ты смеешь просить меня о помощи.\n"
          ]
        }
      ]
    },
    {
      "cell_type": "code",
      "source": [
        "eng_sentences = [normalize_sentence(sentence) for sentence in eng_sentences]\n",
        "rus_sentences = [normalize_sentence(sentence) for sentence in rus_sentences]"
      ],
      "metadata": {
        "id": "SjYqGmG9nt5L"
      },
      "execution_count": null,
      "outputs": []
    },
    {
      "cell_type": "code",
      "source": [
        "print(eng_sentences[-50])\n",
        "print(rus_sentences[-50])"
      ],
      "metadata": {
        "colab": {
          "base_uri": "https://localhost:8080/"
        },
        "id": "3YWXlv-KoeWk",
        "outputId": "7139f405-7115-409f-f93f-435e4a47bd08"
      },
      "execution_count": null,
      "outputs": [
        {
          "output_type": "stream",
          "name": "stdout",
          "text": [
            "[START] how dare you ask me for help ! [END]\n",
            "[START] да как ты смеешь просить меня о помощи . [END]\n"
          ]
        }
      ]
    },
    {
      "cell_type": "markdown",
      "source": [
        "## Векторизация"
      ],
      "metadata": {
        "id": "BMzqHCLA2Ydg"
      }
    },
    {
      "cell_type": "code",
      "source": [
        "print(eng_sentences[-5])\n",
        "print(rus_sentences[-5])"
      ],
      "metadata": {
        "colab": {
          "base_uri": "https://localhost:8080/"
        },
        "id": "Bc3jN1QydcsA",
        "outputId": "1f6234d2-049e-4c64-c505-d5677035d805"
      },
      "execution_count": null,
      "outputs": [
        {
          "output_type": "stream",
          "name": "stdout",
          "text": [
            "[START] how did you learn to do that ? [END]\n",
            "[START] как ты научился это делать ? [END]\n"
          ]
        }
      ]
    },
    {
      "cell_type": "code",
      "source": [
        "class Vocab():\n",
        "    def __init__(self):\n",
        "        self.word2index = {'[PAD]': 0, '[START]': 1, '[END]': 2}\n",
        "        self.index2word = {0: '[PAD]', 1: '[START]', 2: '[END]'}\n",
        "        self.vocab_size = 3\n",
        "\n",
        "    def add_words(self, texts):\n",
        "        for text in texts:\n",
        "            for word in text.split(' '):\n",
        "                if word not in self.word2index:\n",
        "                    self.word2index[word] = self.vocab_size\n",
        "                    self.index2word[self.vocab_size] = word\n",
        "                    self.vocab_size += 1\n",
        "\n",
        "    def seq2vector(self, seq):\n",
        "        vector = [self.word2index[word] for word in seq.split(' ')]\n",
        "        return vector\n",
        "\n",
        "    def vector2tokens(self, vector):\n",
        "        tokens = []\n",
        "        for index in vector:\n",
        "            if index not in [0, 1, 2]:\n",
        "                tokens.append(self.index2word[index])\n",
        "        return tokens"
      ],
      "metadata": {
        "id": "RDvvfWiIiNJX"
      },
      "execution_count": null,
      "outputs": []
    },
    {
      "cell_type": "code",
      "source": [
        "eng_vocab = Vocab()\n",
        "eng_vocab.add_words(eng_sentences)\n",
        "\n",
        "rus_vocab = Vocab()\n",
        "rus_vocab.add_words(rus_sentences)"
      ],
      "metadata": {
        "id": "aFNiYywziNJX"
      },
      "execution_count": null,
      "outputs": []
    },
    {
      "cell_type": "code",
      "source": [
        "def vectorization(data, vocab):\n",
        "    return np.array([vocab.seq2vector(seq) for seq in data], dtype=object)"
      ],
      "metadata": {
        "id": "5mcNhOFGiNJX"
      },
      "execution_count": null,
      "outputs": []
    },
    {
      "cell_type": "code",
      "source": [
        "eng_vectors = vectorization(eng_sentences, eng_vocab)\n",
        "rus_vectors = vectorization(rus_sentences, rus_vocab)"
      ],
      "metadata": {
        "id": "NYNPgJcMiNJY"
      },
      "execution_count": null,
      "outputs": []
    },
    {
      "cell_type": "code",
      "source": [
        "print(eng_vectors[-5])\n",
        "print(rus_vectors[-5])"
      ],
      "metadata": {
        "colab": {
          "base_uri": "https://localhost:8080/"
        },
        "outputId": "8eacc062-4440-4dfc-b474-3a57373c9ef4",
        "id": "KwjjxNKmZfeM"
      },
      "execution_count": null,
      "outputs": [
        {
          "output_type": "stream",
          "name": "stdout",
          "text": [
            "[1, 108, 207, 148, 1413, 341, 20, 344, 9, 2]\n",
            "[1, 191, 23, 8537, 19, 3282, 17, 2]\n"
          ]
        }
      ]
    },
    {
      "cell_type": "code",
      "source": [
        "def padding(data, max_length):\n",
        "    return np.array([vec + [0]*(max_length - len(vec)) for vec in data])"
      ],
      "metadata": {
        "id": "eFvINp0oZzAe"
      },
      "execution_count": null,
      "outputs": []
    },
    {
      "cell_type": "code",
      "source": [
        "max_length = max(len(eng_vectors[-1]), len(rus_vectors[-1]))\n",
        "\n",
        "eng_vectors = padding(eng_vectors, max_length + 10)\n",
        "rus_vectors = padding(rus_vectors, max_length + 10)"
      ],
      "metadata": {
        "id": "pErcef9da6MN"
      },
      "execution_count": null,
      "outputs": []
    },
    {
      "cell_type": "code",
      "source": [
        "print(eng_vectors[-5])\n",
        "print(rus_vectors[-5])"
      ],
      "metadata": {
        "colab": {
          "base_uri": "https://localhost:8080/"
        },
        "id": "uLfMeR3RbOs5",
        "outputId": "720a0e07-1a7f-493f-c83a-ce01ec1be508"
      },
      "execution_count": null,
      "outputs": [
        {
          "output_type": "stream",
          "name": "stdout",
          "text": [
            "[   1  108  207  148 1413  341   20  344    9    2    0    0    0    0\n",
            "    0    0    0    0    0]\n",
            "[   1  191   23 8537   19 3282   17    2    0    0    0    0    0    0\n",
            "    0    0    0    0    0]\n"
          ]
        }
      ]
    },
    {
      "cell_type": "markdown",
      "source": [
        "## Датасет"
      ],
      "metadata": {
        "id": "iUOicyzfDA3m"
      }
    },
    {
      "cell_type": "code",
      "source": [
        "X, X_valid, y, y_valid = train_test_split(rus_vectors, eng_vectors, test_size=0.15, random_state=42)\n",
        "X_train, X_test, y_train, y_test = train_test_split(X, y, test_size=0.1, random_state=42)"
      ],
      "metadata": {
        "id": "Rej0AGCbe1vQ"
      },
      "execution_count": null,
      "outputs": []
    },
    {
      "cell_type": "code",
      "source": [
        "print('Train size:', len(X_train))\n",
        "print('Valid size:', len(X_valid))\n",
        "print('Test size:', len(X_test))"
      ],
      "metadata": {
        "colab": {
          "base_uri": "https://localhost:8080/"
        },
        "id": "-9-wEMvhhBG3",
        "outputId": "e3eecc81-7fc5-444f-b609-8ff758b7d984"
      },
      "execution_count": null,
      "outputs": [
        {
          "output_type": "stream",
          "name": "stdout",
          "text": [
            "Train size: 191250\n",
            "Valid size: 37500\n",
            "Test size: 21250\n"
          ]
        }
      ]
    },
    {
      "cell_type": "code",
      "source": [
        "BATCH_SIZE = 64"
      ],
      "metadata": {
        "id": "AE1n5zeuDAil"
      },
      "execution_count": null,
      "outputs": []
    },
    {
      "cell_type": "code",
      "source": [
        "train_data = TensorDataset(torch.LongTensor(X_train).to(device),\n",
        "                           torch.LongTensor(y_train).to(device))\n",
        "\n",
        "train_dataloader = DataLoader(train_data, batch_size=BATCH_SIZE,\n",
        "                              sampler=RandomSampler(train_data))\n",
        "\n",
        "valid_data = TensorDataset(torch.LongTensor(X_valid).to(device),\n",
        "                           torch.LongTensor(y_valid).to(device))\n",
        "\n",
        "valid_dataloader = DataLoader(train_data, batch_size=BATCH_SIZE,\n",
        "                              sampler=RandomSampler(valid_data))"
      ],
      "metadata": {
        "id": "tIl6KBMTiNJZ"
      },
      "execution_count": null,
      "outputs": []
    },
    {
      "cell_type": "markdown",
      "source": [
        "# Модель"
      ],
      "metadata": {
        "id": "zizVhE_1zMOW"
      }
    },
    {
      "cell_type": "markdown",
      "source": [
        "## Энкодер"
      ],
      "metadata": {
        "id": "t1nFLBPQln_C"
      }
    },
    {
      "metadata": {
        "id": "blYXo7pv5TOu"
      },
      "cell_type": "code",
      "source": [
        "class Encoder(nn.Module):\n",
        "    def __init__(self, vocab_size, units):\n",
        "        super(Encoder, self).__init__()\n",
        "        self.units = units\n",
        "\n",
        "        self.embedding = nn.Embedding(vocab_size, self.units)\n",
        "        self.rnn = nn.GRU(self.units, self.units, bidirectional=True, batch_first=True)\n",
        "\n",
        "    def forward(self, input):\n",
        "        embedded = self.embedding(input)\n",
        "        output, hidden = self.rnn(embedded)\n",
        "        output = output[:, :, :self.units] + output[:, :, self.units:]\n",
        "\n",
        "        return output, hidden"
      ],
      "execution_count": null,
      "outputs": []
    },
    {
      "cell_type": "markdown",
      "source": [
        "## Внимание"
      ],
      "metadata": {
        "id": "pAhVh4MQSFb1"
      }
    },
    {
      "cell_type": "code",
      "source": [
        "class Attention(nn.Module):\n",
        "    def __init__(self, units):\n",
        "        super(Attention, self).__init__()\n",
        "\n",
        "        self.mha = nn.MultiheadAttention(units, num_heads=1, batch_first=True)\n",
        "        self.layernorm = nn.LayerNorm(units)\n",
        "\n",
        "    def forward(self, input, context):\n",
        "        attn_output, attn_scores = self.mha(query=input, key=context, value=context)\n",
        "\n",
        "        attn_scores = torch.mean(attn_scores, 1)\n",
        "        self.last_attention_weights = attn_scores\n",
        "\n",
        "        output = torch.add(input, attn_output)\n",
        "        output = self.layernorm(output)\n",
        "\n",
        "        return output"
      ],
      "metadata": {
        "id": "P4jovkxrZYfH"
      },
      "execution_count": null,
      "outputs": []
    },
    {
      "cell_type": "markdown",
      "source": [
        "## Декодер"
      ],
      "metadata": {
        "id": "7AsLX63WnYdv"
      }
    },
    {
      "cell_type": "code",
      "source": [
        "class Decoder(nn.Module):\n",
        "    def __init__(self, vocab_size, units):\n",
        "        super(Decoder, self).__init__()\n",
        "        self.units = units\n",
        "\n",
        "        self.embedding = nn.Embedding(vocab_size, self.units)\n",
        "        self.rnn = nn.GRU(self.units, self.units, batch_first=True)\n",
        "        self.attention = Attention(self.units)\n",
        "        self.output_layer = nn.Linear(self.units, vocab_size)\n",
        "\n",
        "    def forward(self, context, input, hidden=None):\n",
        "        embedded = self.embedding(input)\n",
        "        output, hidden = self.rnn(embedded, hidden)\n",
        "        output = self.attention(output, context)\n",
        "        output = self.output_layer(output)\n",
        "\n",
        "        return output, hidden\n",
        "\n",
        "    def get_next_token(self, context, next_token, hidden=None):\n",
        "        return self(context, next_token, hidden)"
      ],
      "metadata": {
        "id": "x_enIZh5gqxX"
      },
      "execution_count": null,
      "outputs": []
    },
    {
      "cell_type": "code",
      "source": [
        "UNITS = 256"
      ],
      "metadata": {
        "id": "mmP5uu3Z3maq"
      },
      "execution_count": null,
      "outputs": []
    },
    {
      "cell_type": "code",
      "source": [
        "encoder = Encoder(rus_vocab.vocab_size, UNITS).to(device)\n",
        "decoder = Decoder(eng_vocab.vocab_size, UNITS).to(device)"
      ],
      "metadata": {
        "id": "_RPPbrxWqJAV"
      },
      "execution_count": null,
      "outputs": []
    },
    {
      "cell_type": "markdown",
      "source": [
        "# Обучение"
      ],
      "metadata": {
        "id": "jr1CPUCmrLDF"
      }
    },
    {
      "cell_type": "code",
      "source": [
        "def train_epoch(dataloader, encoder, decoder, criterion,\n",
        "                encoder_optimizer, decoder_optimizer):\n",
        "\n",
        "    total_loss = 0\n",
        "\n",
        "    encoder.train()\n",
        "    decoder.train()\n",
        "\n",
        "    for data in dataloader:\n",
        "        input_tensor, target_tensor = data\n",
        "\n",
        "        target_input = target_tensor[:,:-1]\n",
        "        target_expected = target_tensor[:,1:]\n",
        "\n",
        "        encoder_optimizer.zero_grad()\n",
        "        decoder_optimizer.zero_grad()\n",
        "\n",
        "        context, _ = encoder(input_tensor)\n",
        "        outputs, _ = decoder(context, target_input)\n",
        "\n",
        "        outputs = outputs.permute(0, 2, 1)\n",
        "\n",
        "        loss = criterion(\n",
        "            outputs,\n",
        "            target_expected\n",
        "        )\n",
        "\n",
        "        loss.backward()\n",
        "\n",
        "        encoder_optimizer.step()\n",
        "        decoder_optimizer.step()\n",
        "\n",
        "        total_loss += loss.item()\n",
        "\n",
        "    return total_loss / len(dataloader)"
      ],
      "metadata": {
        "id": "lKltME3Pm7Mm"
      },
      "execution_count": null,
      "outputs": []
    },
    {
      "cell_type": "code",
      "source": [
        "def valid_epoch(dataloader, encoder, decoder, criterion,\n",
        "              encoder_optimizer, decoder_optimizer):\n",
        "\n",
        "    total_loss = 0\n",
        "\n",
        "    encoder.eval()\n",
        "    decoder.eval()\n",
        "\n",
        "    with torch.no_grad():\n",
        "        for data in dataloader:\n",
        "            input_tensor, target_tensor = data\n",
        "\n",
        "            target_input = target_tensor[:,:-1]\n",
        "            target_expected = target_tensor[:,1:]\n",
        "\n",
        "            context, _ = encoder(input_tensor)\n",
        "            outputs, _ = decoder(context, target_input)\n",
        "\n",
        "            outputs = outputs.permute(0, 2, 1)\n",
        "\n",
        "            loss = criterion(\n",
        "                outputs,\n",
        "                target_expected\n",
        "            )\n",
        "\n",
        "            total_loss += loss.item()\n",
        "\n",
        "    return total_loss / len(dataloader)"
      ],
      "metadata": {
        "id": "2UbJo21Xj2rF"
      },
      "execution_count": null,
      "outputs": []
    },
    {
      "cell_type": "code",
      "source": [
        "def train(train_dataloader, valid_dataloader,\n",
        "          encoder, decoder, n_epochs, lr=0.001,\n",
        "          print_every=10, plot_every=10):\n",
        "\n",
        "    start = time.time()\n",
        "    train_plot_losses = []\n",
        "    train_plot_loss = 0\n",
        "    train_print_loss = 0\n",
        "    valid_plot_losses = []\n",
        "    valid_plot_loss = 0\n",
        "    valid_print_loss = 0\n",
        "\n",
        "    encoder_optimizer = optim.Adam(encoder.parameters(), lr=lr)\n",
        "    decoder_optimizer = optim.Adam(decoder.parameters(), lr=lr)\n",
        "    criterion = nn.CrossEntropyLoss(ignore_index=0)\n",
        "\n",
        "    for epoch in range(1, n_epochs + 1):\n",
        "        train_loss = train_epoch(train_dataloader, encoder, decoder, criterion,\n",
        "                                 encoder_optimizer, decoder_optimizer)\n",
        "\n",
        "        train_print_loss += train_loss\n",
        "        train_plot_loss += train_loss\n",
        "\n",
        "        valid_loss = valid_epoch(valid_dataloader, encoder, decoder, criterion,\n",
        "                                 encoder_optimizer, decoder_optimizer)\n",
        "\n",
        "        valid_print_loss += valid_loss\n",
        "        valid_plot_loss += valid_loss\n",
        "\n",
        "        if epoch % print_every == 0:\n",
        "            train_loss_avg = train_print_loss / print_every\n",
        "            valid_loss_avg = valid_print_loss / print_every\n",
        "            train_print_loss = 0\n",
        "            valid_print_loss = 0\n",
        "            print('epoch: %d (%d%%)' % (epoch, 100 * epoch / n_epochs))\n",
        "            print('train_loss: %.4f    valid_loss: %.4f' % (train_loss_avg, valid_loss_avg))\n",
        "            print()\n",
        "\n",
        "        if epoch % plot_every == 0:\n",
        "            train_loss_avg = train_plot_loss / plot_every\n",
        "            valid_loss_avg = valid_plot_loss / plot_every\n",
        "            train_plot_losses.append(train_loss_avg)\n",
        "            valid_plot_losses.append(valid_loss_avg)\n",
        "            train_plot_loss = 0\n",
        "            valid_plot_loss = 0\n",
        "\n",
        "    print('time: %.6f' % (time.time() - start))\n",
        "    show_plot(train_plot_losses, valid_plot_losses)"
      ],
      "metadata": {
        "id": "mnOkGKeRmbFB"
      },
      "execution_count": null,
      "outputs": []
    },
    {
      "cell_type": "code",
      "source": [
        "def show_plot(train_points, validpoints):\n",
        "    plt.figure()\n",
        "    fig, ax = plt.subplots()\n",
        "    loc = ticker.MultipleLocator(base=0.2)\n",
        "    ax.yaxis.set_major_locator(loc)\n",
        "    plt.plot(train_points)\n",
        "    plt.plot(validpoints)"
      ],
      "metadata": {
        "id": "YnGBBTRTQE6B"
      },
      "execution_count": null,
      "outputs": []
    },
    {
      "cell_type": "code",
      "source": [
        "train(train_dataloader, valid_dataloader,\n",
        "      encoder, decoder, n_epochs=25,\n",
        "      print_every=1, plot_every=1)"
      ],
      "metadata": {
        "id": "-gi6L7ELwFws",
        "colab": {
          "base_uri": "https://localhost:8080/",
          "height": 1000
        },
        "outputId": "989cdba0-47d7-4a02-a762-2d3c7c015554"
      },
      "execution_count": null,
      "outputs": [
        {
          "output_type": "stream",
          "name": "stdout",
          "text": [
            "epoch: 1 (4%)\n",
            "train_loss: 1.4816    valid_loss: 0.7388\n",
            "\n",
            "epoch: 2 (8%)\n",
            "train_loss: 0.7265    valid_loss: 0.4898\n",
            "\n",
            "epoch: 3 (12%)\n",
            "train_loss: 0.5230    valid_loss: 0.3742\n",
            "\n",
            "epoch: 4 (16%)\n",
            "train_loss: 0.4178    valid_loss: 0.3103\n",
            "\n",
            "epoch: 5 (20%)\n",
            "train_loss: 0.3529    valid_loss: 0.2726\n",
            "\n",
            "epoch: 6 (24%)\n",
            "train_loss: 0.3091    valid_loss: 0.2378\n",
            "\n",
            "epoch: 7 (28%)\n",
            "train_loss: 0.2771    valid_loss: 0.2158\n",
            "\n",
            "epoch: 8 (32%)\n",
            "train_loss: 0.2521    valid_loss: 0.2007\n",
            "\n",
            "epoch: 9 (36%)\n",
            "train_loss: 0.2330    valid_loss: 0.1879\n",
            "\n",
            "epoch: 10 (40%)\n",
            "train_loss: 0.2179    valid_loss: 0.1781\n",
            "\n",
            "epoch: 11 (44%)\n",
            "train_loss: 0.2055    valid_loss: 0.1649\n",
            "\n",
            "epoch: 12 (48%)\n",
            "train_loss: 0.1949    valid_loss: 0.1555\n",
            "\n",
            "epoch: 13 (52%)\n",
            "train_loss: 0.1859    valid_loss: 0.1524\n",
            "\n",
            "epoch: 14 (56%)\n",
            "train_loss: 0.1782    valid_loss: 0.1467\n",
            "\n",
            "epoch: 15 (60%)\n",
            "train_loss: 0.1725    valid_loss: 0.1407\n",
            "\n",
            "epoch: 16 (64%)\n",
            "train_loss: 0.1652    valid_loss: 0.1393\n",
            "\n",
            "epoch: 17 (68%)\n",
            "train_loss: 0.1613    valid_loss: 0.1308\n",
            "\n",
            "epoch: 18 (72%)\n",
            "train_loss: 0.1561    valid_loss: 0.1297\n",
            "\n",
            "epoch: 19 (76%)\n",
            "train_loss: 0.1522    valid_loss: 0.1252\n",
            "\n",
            "epoch: 20 (80%)\n",
            "train_loss: 0.1482    valid_loss: 0.1235\n",
            "\n",
            "epoch: 21 (84%)\n",
            "train_loss: 0.1457    valid_loss: 0.1186\n",
            "\n",
            "epoch: 22 (88%)\n",
            "train_loss: 0.1425    valid_loss: 0.1191\n",
            "\n",
            "epoch: 23 (92%)\n",
            "train_loss: 0.1393    valid_loss: 0.1129\n",
            "\n",
            "epoch: 24 (96%)\n",
            "train_loss: 0.1377    valid_loss: 0.1120\n",
            "\n",
            "epoch: 25 (100%)\n",
            "train_loss: 0.1346    valid_loss: 0.1098\n",
            "\n",
            "time: 1626.248136\n"
          ]
        },
        {
          "output_type": "display_data",
          "data": {
            "text/plain": [
              "<Figure size 640x480 with 0 Axes>"
            ]
          },
          "metadata": {}
        },
        {
          "output_type": "display_data",
          "data": {
            "text/plain": [
              "<Figure size 640x480 with 1 Axes>"
            ],
            "image/png": "[encoded data removed]"
          },
          "metadata": {}
        }
      ]
    },
    {
      "cell_type": "markdown",
      "source": [
        "# Сохранение модели"
      ],
      "metadata": {
        "id": "H_UUx7mfnsVM"
      }
    },
    {
      "cell_type": "code",
      "source": [
        "torch.save(encoder, '/content/drive/My Drive/encoder.pth')\n",
        "torch.save(decoder, '/content/drive/My Drive/decoder.pth')"
      ],
      "metadata": {
        "id": "mawnDbnjnwMx"
      },
      "execution_count": null,
      "outputs": []
    },
    {
      "cell_type": "code",
      "source": [
        "encoder = torch.load('/content/drive/My Drive/encoder.pth')\n",
        "decoder = torch.load('/content/drive/My Drive/decoder.pth')"
      ],
      "metadata": {
        "id": "DXROK0ovosEY"
      },
      "execution_count": null,
      "outputs": []
    },
    {
      "cell_type": "markdown",
      "source": [
        "# Перевод"
      ],
      "metadata": {
        "id": "SkincN-brrft"
      }
    },
    {
      "cell_type": "code",
      "source": [
        "def translate(encoder, decoder, input, max_length=53):\n",
        "    encoder.eval()\n",
        "    decoder.eval()\n",
        "\n",
        "    input_tensor = torch.tensor(input, dtype=torch.long, device=device).view(1, -1)\n",
        "    tokens = []\n",
        "\n",
        "    with torch.no_grad():\n",
        "        context, _ = encoder(input_tensor)\n",
        "\n",
        "        batch_size = context.size(0)\n",
        "        next_token = torch.empty(batch_size, 1, dtype=torch.long, device=device).fill_(1)\n",
        "\n",
        "        state = None\n",
        "        for _ in range(max_length):\n",
        "            next_token, state = decoder(context, next_token, state)\n",
        "\n",
        "            _, topi = next_token.topk(1)\n",
        "            next_token = topi.squeeze(-1).detach()\n",
        "\n",
        "            tokens.append(next_token)\n",
        "\n",
        "            if (next_token.item() == 2):\n",
        "                break\n",
        "\n",
        "    return torch.cat(tokens, dim=1).tolist()[0]"
      ],
      "metadata": {
        "id": "bxKwbDFVhMJr"
      },
      "execution_count": null,
      "outputs": []
    },
    {
      "cell_type": "markdown",
      "source": [
        "## Метрики"
      ],
      "metadata": {
        "id": "qYu5RqGQCLsc"
      }
    },
    {
      "cell_type": "markdown",
      "source": [
        "Оценка BLEU на тестовом наборе"
      ],
      "metadata": {
        "id": "LoHSy_U9x8aq"
      }
    },
    {
      "cell_type": "code",
      "source": [
        "references = []\n",
        "translations = []\n",
        "\n",
        "for i in range(len(X_test)):\n",
        "    references.append(eng_vocab.vector2tokens(y_test[i]))\n",
        "    sentence = translate(encoder, decoder, X_test[i])\n",
        "    translations.append(eng_vocab.vector2tokens(sentence))"
      ],
      "metadata": {
        "id": "4FnM6tSPqPga"
      },
      "execution_count": null,
      "outputs": []
    },
    {
      "cell_type": "code",
      "source": [
        "bleu_references = [[ref] for ref in references]\n",
        "bleu_score = corpus_bleu(bleu_references, translations)\n",
        "print('BLEU Score: ', bleu_score)"
      ],
      "metadata": {
        "colab": {
          "base_uri": "https://localhost:8080/"
        },
        "id": "iO_TG_0SABJz",
        "outputId": "1a671ff2-0f4a-4af0-9cd0-a412f16e8937"
      },
      "execution_count": null,
      "outputs": [
        {
          "output_type": "stream",
          "name": "stdout",
          "text": [
            "BLEU Score:  0.5877358716615677\n"
          ]
        }
      ]
    },
    {
      "cell_type": "markdown",
      "source": [
        "Близость эмбеддингов на тестовом наборе"
      ],
      "metadata": {
        "id": "vCKnBOXOAfNP"
      }
    },
    {
      "cell_type": "code",
      "source": [
        "!pip install POT"
      ],
      "metadata": {
        "colab": {
          "base_uri": "https://localhost:8080/"
        },
        "id": "36CrrihjDAMH",
        "outputId": "ec157ed1-3c15-44c2-d192-6e8e4cabbfb9"
      },
      "execution_count": null,
      "outputs": [
        {
          "output_type": "stream",
          "name": "stdout",
          "text": [
            "Requirement already satisfied: POT in /usr/local/lib/python3.10/dist-packages (0.9.3)\n",
            "Requirement already satisfied: numpy>=1.16 in /usr/local/lib/python3.10/dist-packages (from POT) (1.25.2)\n",
            "Requirement already satisfied: scipy>=1.6 in /usr/local/lib/python3.10/dist-packages (from POT) (1.11.4)\n"
          ]
        }
      ]
    },
    {
      "cell_type": "code",
      "source": [
        "word2vec_model = gensim.downloader.load('word2vec-google-news-300')"
      ],
      "metadata": {
        "id": "O0bCUr0PymTn"
      },
      "execution_count": null,
      "outputs": []
    },
    {
      "cell_type": "code",
      "source": [
        "def preprocess(model, sentense):\n",
        "    return [word for word in sentense if word in model]"
      ],
      "metadata": {
        "id": "y77UFKqKDX0K"
      },
      "execution_count": null,
      "outputs": []
    },
    {
      "cell_type": "code",
      "source": [
        "total = 0\n",
        "for i in range(10000):\n",
        "    total += word2vec_model.wmdistance(preprocess(word2vec_model, references[i]),\n",
        "                                       preprocess(word2vec_model, translations[i]))\n",
        "\n",
        "print('WMD Similarity: ', total / len(references))"
      ],
      "metadata": {
        "colab": {
          "base_uri": "https://localhost:8080/"
        },
        "id": "dV5tjlaL3SQf",
        "outputId": "4922a68e-9cf3-400f-c5bf-022a973ac023"
      },
      "execution_count": null,
      "outputs": [
        {
          "output_type": "stream",
          "name": "stdout",
          "text": [
            "WMD Similarity:  0.1365988515142238\n"
          ]
        }
      ]
    },
    {
      "cell_type": "markdown",
      "source": [
        "## Примеры переводов"
      ],
      "metadata": {
        "id": "7TiyrRovCP4B"
      }
    },
    {
      "cell_type": "markdown",
      "source": [
        "На тренировочных данных"
      ],
      "metadata": {
        "id": "btc5Ex6aygKi"
      }
    },
    {
      "cell_type": "code",
      "source": [
        "for i in range(5):\n",
        "    idx = random.randint(1, len(X_train))\n",
        "    print('RUS: ', ' '.join(rus_vocab.vector2tokens(X_train[idx])))\n",
        "    print('ENG: ', ' '.join(eng_vocab.vector2tokens(y_train[idx])))\n",
        "    sentence = translate(encoder, decoder, X_train[idx])\n",
        "    print('TRL: ', ' '.join(eng_vocab.vector2tokens(sentence)))\n",
        "    print()"
      ],
      "metadata": {
        "colab": {
          "base_uri": "https://localhost:8080/"
        },
        "id": "fA-i5TXfChtL",
        "outputId": "5e9f03df-cedf-4a8c-e85b-58cd096b1809"
      },
      "execution_count": null,
      "outputs": [
        {
          "output_type": "stream",
          "name": "stdout",
          "text": [
            "RUS:  я знаю , что она у тебя с собои .\n",
            "ENG:  i know you have it with you .\n",
            "TRL:  i know you have it with you .\n",
            "\n",
            "RUS:  я заказал бокал вина .\n",
            "ENG:  i ordered a glass of wine .\n",
            "TRL:  i ordered a glass of wine .\n",
            "\n",
            "RUS:  не думаю , что я знаю тома .\n",
            "ENG:  i don t think i know tom .\n",
            "TRL:  i don t think i know tom .\n",
            "\n",
            "RUS:  я пообедал два часа назад .\n",
            "ENG:  i ate lunch two hours ago .\n",
            "TRL:  i ate lunch two hours ago .\n",
            "\n",
            "RUS:  я рад , что ты это предложил .\n",
            "ENG:  i m glad you suggested this .\n",
            "TRL:  i m glad you suggested this .\n",
            "\n"
          ]
        }
      ]
    },
    {
      "cell_type": "markdown",
      "source": [
        "На тестовых данных"
      ],
      "metadata": {
        "id": "AnXDOER3ymeg"
      }
    },
    {
      "cell_type": "code",
      "source": [
        "for i in range(5):\n",
        "    idx = random.randint(1, len(X_test))\n",
        "    print('RUS: ', ' '.join(rus_vocab.vector2tokens(X_test[idx])))\n",
        "    print('ENG: ', ' '.join(eng_vocab.vector2tokens(y_test[idx])))\n",
        "    sentence = translate(encoder, decoder, X_test[idx])\n",
        "    print('TRL: ', ' '.join(eng_vocab.vector2tokens(sentence)))\n",
        "    print()"
      ],
      "metadata": {
        "id": "t6sMlFQbyl9s",
        "colab": {
          "base_uri": "https://localhost:8080/"
        },
        "outputId": "718f52bb-e79d-45c8-a2f1-b85b14d01013"
      },
      "execution_count": null,
      "outputs": [
        {
          "output_type": "stream",
          "name": "stdout",
          "text": [
            "RUS:  том не стал бы никого убивать .\n",
            "ENG:  tom wouldn t murder anyone .\n",
            "TRL:  tom wouldn t kill anyone .\n",
            "\n",
            "RUS:  я в бостоне по делам .\n",
            "ENG:  i m in boston on business .\n",
            "TRL:  i m in boston on business .\n",
            "\n",
            "RUS:  они сестры ?\n",
            "ENG:  are they sisters ?\n",
            "TRL:  are they sisters ?\n",
            "\n",
            "RUS:  я никого не убивал .\n",
            "ENG:  i didn t murder anyone .\n",
            "TRL:  i didn t kill anyone .\n",
            "\n",
            "RUS:  я знал , что том заплачет .\n",
            "ENG:  i knew tom was going to cry .\n",
            "TRL:  i knew that tom would cry .\n",
            "\n"
          ]
        }
      ]
    }
  ]
}